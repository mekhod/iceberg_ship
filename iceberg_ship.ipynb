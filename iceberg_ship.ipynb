{
 "cells": [
  {
   "cell_type": "code",
   "execution_count": 1,
   "metadata": {},
   "outputs": [
    {
     "name": "stderr",
     "output_type": "stream",
     "text": [
      "Using TensorFlow backend.\n"
     ]
    }
   ],
   "source": [
    "# Imports\n",
    "\n",
    "import json\n",
    "import numpy as np\n",
    "import pandas as pd\n",
    "import matplotlib.pyplot as plt\n",
    "import seaborn as sns\n",
    "from sklearn.cross_validation import train_test_split\n",
    "from keras.callbacks import ModelCheckpoint\n",
    "from keras.layers import Conv2D, MaxPooling2D, GlobalAveragePooling2D\n",
    "from keras.models import Sequential\n",
    "from keras.layers import Dropout, Flatten, Dense, Activation\n",
    "from keras.optimizers import Adam\n",
    "import scipy\n",
    "import pickle\n",
    "from keras import backend as K\n",
    "%matplotlib inline\n",
    "\n",
    "np.random.seed(42)"
   ]
  },
  {
   "cell_type": "markdown",
   "metadata": {},
   "source": [
    "# Analyzing data"
   ]
  },
  {
   "cell_type": "markdown",
   "metadata": {},
   "source": [
    "## 1. Loading the data\n",
    "This dataset is in json format. The following load_json function loads the whole dataset into a list in Python."
   ]
  },
  {
   "cell_type": "code",
   "execution_count": 2,
   "metadata": {
    "collapsed": true
   },
   "outputs": [],
   "source": [
    "# Loading the data (it's preloaded in Keras)\n",
    "def load_json(path='./data/train.json'):\n",
    "    with open(path) as json_data:\n",
    "        dta = json.load(json_data)\n",
    "        json_data.close()\n",
    "    return dta\n",
    "dta =load_json(path='./data/train.json')"
   ]
  },
  {
   "cell_type": "code",
   "execution_count": 3,
   "metadata": {},
   "outputs": [
    {
     "name": "stdout",
     "output_type": "stream",
     "text": [
      "There are 1604 images in this dataset.\n",
      "Each sample is a dictionary with ['id', 'band_1', 'band_2', 'inc_angle', 'is_iceberg'] keys.\n",
      "The lengths of band_1 and band_2 are the same and are equal with 5625.\n",
      "The is_iceberg has the values of [0 1].\n"
     ]
    }
   ],
   "source": [
    "print('There are {} images in this dataset.'.format(len(dta)))\n",
    "keys = list(dta[0].keys())\n",
    "print('Each sample is a dictionary with {} keys.'.format(keys))\n",
    "band_1 = dta[0]['band_1']\n",
    "band_2 = dta[0]['band_2']\n",
    "if len(band_1) == len(band_2):\n",
    "    print('The lengths of band_1 and band_2 are the same and are equal with {}.'.format(len(band_1)))\n",
    "    \n",
    "is_iceberg = np.unique([dta[i]['is_iceberg'] for i in range(len(dta))])\n",
    "print('The is_iceberg has the values of {}.'.format(is_iceberg))"
   ]
  },
  {
   "cell_type": "markdown",
   "metadata": {},
   "source": [
    "To further study the characteristics of the data, histograms of band_1 and band_2 are plotted as follows:"
   ]
  },
  {
   "cell_type": "code",
   "execution_count": 4,
   "metadata": {
    "collapsed": true
   },
   "outputs": [],
   "source": [
    "def flatten_data(json_data=dta):\n",
    "    ##\n",
    "    samples_len = len(json_data)\n",
    "    model_target = []\n",
    "    sample = []\n",
    "    band_1 = []\n",
    "    band_2 = []\n",
    "    inc_angle = []\n",
    "    ##\n",
    "    for sample_n in range(samples_len):\n",
    "        #\n",
    "        model_target_temp = [json_data[sample_n]['is_iceberg']]*len(json_data[sample_n]['band_1'])\n",
    "        model_target.extend(model_target_temp)\n",
    "        ##\n",
    "        sample_temp = [sample_n]*len(json_data[sample_n]['band_1'])\n",
    "        sample.extend(sample_temp)\n",
    "        ##\n",
    "        inc_angle_temp = [json_data[sample_n]['inc_angle']]*len(json_data[sample_n]['band_1'])\n",
    "        inc_angle.extend(inc_angle_temp)\n",
    "        ##\n",
    "        band_1 += json_data[sample_n]['band_1']\n",
    "        band_2 += json_data[sample_n]['band_2']\n",
    "        ##\n",
    "    ##\n",
    "    return band_1, band_2, inc_angle, model_target, sample\n",
    "band_1, band_2, inc_angle, model_target, sample = flatten_data(json_data=dta)"
   ]
  },
  {
   "cell_type": "code",
   "execution_count": 5,
   "metadata": {},
   "outputs": [
    {
     "data": {
      "text/html": [
       "<div>\n",
       "<style>\n",
       "    .dataframe thead tr:only-child th {\n",
       "        text-align: right;\n",
       "    }\n",
       "\n",
       "    .dataframe thead th {\n",
       "        text-align: left;\n",
       "    }\n",
       "\n",
       "    .dataframe tbody tr th {\n",
       "        vertical-align: top;\n",
       "    }\n",
       "</style>\n",
       "<table border=\"1\" class=\"dataframe\">\n",
       "  <thead>\n",
       "    <tr style=\"text-align: right;\">\n",
       "      <th></th>\n",
       "      <th>band_1</th>\n",
       "      <th>band_2</th>\n",
       "      <th>inc_angle</th>\n",
       "      <th>sample</th>\n",
       "      <th>target</th>\n",
       "    </tr>\n",
       "  </thead>\n",
       "  <tbody>\n",
       "    <tr>\n",
       "      <th>0</th>\n",
       "      <td>-27.878361</td>\n",
       "      <td>-27.154118</td>\n",
       "      <td>43.9239</td>\n",
       "      <td>0</td>\n",
       "      <td>0</td>\n",
       "    </tr>\n",
       "    <tr>\n",
       "      <th>1</th>\n",
       "      <td>-27.154160</td>\n",
       "      <td>-29.537888</td>\n",
       "      <td>43.9239</td>\n",
       "      <td>0</td>\n",
       "      <td>0</td>\n",
       "    </tr>\n",
       "    <tr>\n",
       "      <th>2</th>\n",
       "      <td>-28.668615</td>\n",
       "      <td>-31.030600</td>\n",
       "      <td>43.9239</td>\n",
       "      <td>0</td>\n",
       "      <td>0</td>\n",
       "    </tr>\n",
       "    <tr>\n",
       "      <th>3</th>\n",
       "      <td>-29.537971</td>\n",
       "      <td>-32.190483</td>\n",
       "      <td>43.9239</td>\n",
       "      <td>0</td>\n",
       "      <td>0</td>\n",
       "    </tr>\n",
       "  </tbody>\n",
       "</table>\n",
       "</div>"
      ],
      "text/plain": [
       "      band_1     band_2 inc_angle  sample  target\n",
       "0 -27.878361 -27.154118   43.9239       0       0\n",
       "1 -27.154160 -29.537888   43.9239       0       0\n",
       "2 -28.668615 -31.030600   43.9239       0       0\n",
       "3 -29.537971 -32.190483   43.9239       0       0"
      ]
     },
     "execution_count": 5,
     "metadata": {},
     "output_type": "execute_result"
    }
   ],
   "source": [
    "## converting data to a pandas dataframe\n",
    "dc = {'band_1':band_1, 'band_2':band_2, 'inc_angle':inc_angle, 'target':model_target, 'sample':sample}\n",
    "df = pd.DataFrame(dc)\n",
    "df.head(4)"
   ]
  },
  {
   "cell_type": "markdown",
   "metadata": {},
   "source": [
    "## 2. Exploring the data"
   ]
  },
  {
   "cell_type": "code",
   "execution_count": 6,
   "metadata": {
    "collapsed": true
   },
   "outputs": [],
   "source": [
    "df_2 = pd.DataFrame()\n",
    "df_2['target'] = df.groupby('sample')['sample', 'target'].apply(lambda x: np.unique(x.target)[0])\n",
    "df_2.reset_index(drop=False, inplace=True)"
   ]
  },
  {
   "cell_type": "markdown",
   "metadata": {},
   "source": [
    "**The following barchart shows the counts of images with (1) and without (0) iceberg.**"
   ]
  },
  {
   "cell_type": "code",
   "execution_count": 7,
   "metadata": {},
   "outputs": [
    {
     "data": {
      "image/png": "[encoded data removed]",
      "text/plain": [
       "<matplotlib.figure.Figure at 0x7f3e49881710>"
      ]
     },
     "metadata": {},
     "output_type": "display_data"
    }
   ],
   "source": [
    "fig = plt.figure(figsize=(8,5))\n",
    "sns.countplot(y=\"target\", data=df_2)\n",
    "plt.show()"
   ]
  },
  {
   "cell_type": "markdown",
   "metadata": {},
   "source": [
    "**The following histograms show the distribution of band_1, band_2, and inc_angle values.**"
   ]
  },
  {
   "cell_type": "code",
   "execution_count": 8,
   "metadata": {},
   "outputs": [
    {
     "data": {
      "image/png": "[encoded data removed]",
      "text/plain": [
       "<matplotlib.figure.Figure at 0x7f3e5ecf9630>"
      ]
     },
     "metadata": {},
     "output_type": "display_data"
    }
   ],
   "source": [
    "fig = plt.figure(figsize=(15,7))\n",
    "ax = fig.add_subplot(2, 2, 1)\n",
    "sns.distplot(df.band_1, label='band_1')\n",
    "sns.distplot(df.band_2, label='band_2')\n",
    "plt.legend()\n",
    "plt.xlabel('dB')\n",
    "\n",
    "ax = fig.add_subplot(2, 2, 2)\n",
    "sns.distplot(df[df.target==1]['band_1'], label='band_1 (iceberg)')\n",
    "sns.distplot(df[df.target==1]['band_2'], label='band_2 (iceberg)')\n",
    "plt.legend()\n",
    "plt.xlabel('dB')\n",
    "\n",
    "ax = fig.add_subplot(2, 2, 3)\n",
    "sns.distplot(df[df.target==0]['band_1'], label='band_1 (ship)')\n",
    "sns.distplot(df[df.target==0]['band_2'], label='band_2 (ship)')\n",
    "plt.legend()\n",
    "plt.xlabel('dB')\n",
    "\n",
    "ax = fig.add_subplot(2, 2, 4)\n",
    "sns.distplot(df[df.inc_angle!='na']['inc_angle'], label='inc_angle')\n",
    "plt.legend()\n",
    "plt.xlabel('degree')\n",
    "\n",
    "plt.show()"
   ]
  },
  {
   "cell_type": "markdown",
   "metadata": {},
   "source": [
    "## 3. Preparing the data"
   ]
  },
  {
   "cell_type": "markdown",
   "metadata": {},
   "source": [
    "In the next step, the values of band_1 and band_2 are used to construct images with three channels that can be used to train a benchmark model and also to extract bottleneck features using VGG-16 and ResNet-50 architectures. The is_iceberg values are the models target (y) with values of 1 and 0 corresponding to images with iceberg and without iceberg respectively. Here a function is created that does the data conversion task."
   ]
  },
  {
   "cell_type": "code",
   "execution_count": 9,
   "metadata": {
    "collapsed": true
   },
   "outputs": [],
   "source": [
    "def convert_data(json_data=dta):\n",
    "    ##\n",
    "    samples_len = len(json_data)\n",
    "    width = int(np.sqrt(len(json_data[0]['band_1'])))\n",
    "    height = width\n",
    "    ##\n",
    "    model_input = np.zeros(shape=(samples_len, width, height, 3))\n",
    "    model_target = np.zeros(shape=(samples_len, 1))\n",
    "    ##\n",
    "    for sample_n in range(samples_len):\n",
    "        ##\n",
    "        band_1 = np.array(json_data[sample_n]['band_1'])\n",
    "        band_1 += abs(min(band_1))\n",
    "        band_1 *= 255/max(band_1)\n",
    "        #\n",
    "        band_2 = np.array(json_data[sample_n]['band_2'])\n",
    "        band_2 += abs(min(band_2))\n",
    "        band_2 *= 255/max(band_2)\n",
    "        ##\n",
    "        image = list(band_1) + list(band_2) + list(band_2)\n",
    "        image_reshaped = np.reshape(image, [width, height, 3])\n",
    "        ##\n",
    "        model_input[sample_n] = image_reshaped\n",
    "        ##\n",
    "        model_target[sample_n] = json_data[sample_n]['is_iceberg']\n",
    "    ##\n",
    "    return model_input, model_target"
   ]
  },
  {
   "cell_type": "code",
   "execution_count": 10,
   "metadata": {
    "collapsed": true
   },
   "outputs": [],
   "source": [
    "model_input, model_target = convert_data(json_data=dta)"
   ]
  },
  {
   "cell_type": "code",
   "execution_count": 11,
   "metadata": {},
   "outputs": [
    {
     "data": {
      "text/plain": [
       "(1604, 75, 75, 3)"
      ]
     },
     "execution_count": 11,
     "metadata": {},
     "output_type": "execute_result"
    }
   ],
   "source": [
    "model_input.shape"
   ]
  },
  {
   "cell_type": "markdown",
   "metadata": {},
   "source": [
    "## 4. Splitting data into train and validation sets\n",
    "Here, the model_input dataset is divided into train and validation sets."
   ]
  },
  {
   "cell_type": "code",
   "execution_count": 12,
   "metadata": {
    "collapsed": true
   },
   "outputs": [],
   "source": [
    "X_train, X_val, y_train, y_val = train_test_split(model_input, model_target, test_size=0.20, random_state=19)"
   ]
  },
  {
   "cell_type": "code",
   "execution_count": 13,
   "metadata": {},
   "outputs": [
    {
     "data": {
      "text/plain": [
       "(1283, 75, 75, 3)"
      ]
     },
     "execution_count": 13,
     "metadata": {},
     "output_type": "execute_result"
    }
   ],
   "source": [
    "X_train.shape"
   ]
  },
  {
   "cell_type": "markdown",
   "metadata": {},
   "source": [
    "## 5. Building the benchmark  model architecture\n",
    "Here, the benchmark CNN model architecture is constructed."
   ]
  },
  {
   "cell_type": "code",
   "execution_count": 14,
   "metadata": {
    "collapsed": true
   },
   "outputs": [],
   "source": [
    "def construct_benchmark(inp):\n",
    "    ##\n",
    "    K.clear_session()\n",
    "    ##\n",
    "    np.random.seed(42)\n",
    "    ##\n",
    "    model = Sequential()\n",
    "    ##\n",
    "    model.add(Conv2D(filters=16, kernel_size=2, strides=1, padding='same', activation='relu',\n",
    "                     input_shape=inp.shape[1:]))\n",
    "    model.add(MaxPooling2D(pool_size=2))\n",
    "    model.add(Conv2D(filters=32, kernel_size=2, strides=1, padding='same', activation='relu'))\n",
    "    model.add(MaxPooling2D(pool_size=2))\n",
    "    model.add(Conv2D(filters=64, kernel_size=2, strides=1, padding='same', activation='relu'))\n",
    "    model.add(MaxPooling2D(pool_size=2))\n",
    "    model.add(GlobalAveragePooling2D())\n",
    "    model.add(Dense(100, activation='relu'))\n",
    "    model.add(Dropout(0.5))\n",
    "    model.add(Dense(1, activation='sigmoid'))\n",
    "    return model"
   ]
  },
  {
   "cell_type": "code",
   "execution_count": 15,
   "metadata": {},
   "outputs": [
    {
     "name": "stdout",
     "output_type": "stream",
     "text": [
      "_________________________________________________________________\n",
      "Layer (type)                 Output Shape              Param #   \n",
      "=================================================================\n",
      "conv2d_1 (Conv2D)            (None, 75, 75, 16)        208       \n",
      "_________________________________________________________________\n",
      "max_pooling2d_1 (MaxPooling2 (None, 37, 37, 16)        0         \n",
      "_________________________________________________________________\n",
      "conv2d_2 (Conv2D)            (None, 37, 37, 32)        2080      \n",
      "_________________________________________________________________\n",
      "max_pooling2d_2 (MaxPooling2 (None, 18, 18, 32)        0         \n",
      "_________________________________________________________________\n",
      "conv2d_3 (Conv2D)            (None, 18, 18, 64)        8256      \n",
      "_________________________________________________________________\n",
      "max_pooling2d_3 (MaxPooling2 (None, 9, 9, 64)          0         \n",
      "_________________________________________________________________\n",
      "global_average_pooling2d_1 ( (None, 64)                0         \n",
      "_________________________________________________________________\n",
      "dense_1 (Dense)              (None, 100)               6500      \n",
      "_________________________________________________________________\n",
      "dropout_1 (Dropout)          (None, 100)               0         \n",
      "_________________________________________________________________\n",
      "dense_2 (Dense)              (None, 1)                 101       \n",
      "=================================================================\n",
      "Total params: 17,145\n",
      "Trainable params: 17,145\n",
      "Non-trainable params: 0\n",
      "_________________________________________________________________\n"
     ]
    }
   ],
   "source": [
    "\n",
    "benchmark = construct_benchmark(inp=X_train)\n",
    "benchmark.summary()\n"
   ]
  },
  {
   "cell_type": "code",
   "execution_count": 16,
   "metadata": {},
   "outputs": [
    {
     "name": "stdout",
     "output_type": "stream",
     "text": [
      "Epoch 00000: val_acc improved from -inf to 0.53271, saving model to ./weights/benchmark_weights.hdf5\n",
      "Epoch 00001: val_acc did not improve\n",
      "Epoch 00002: val_acc improved from 0.53271 to 0.62617, saving model to ./weights/benchmark_weights.hdf5\n",
      "Epoch 00003: val_acc improved from 0.62617 to 0.66355, saving model to ./weights/benchmark_weights.hdf5\n",
      "Epoch 00004: val_acc did not improve\n",
      "Epoch 00005: val_acc did not improve\n",
      "Epoch 00006: val_acc did not improve\n",
      "Epoch 00007: val_acc did not improve\n",
      "Epoch 00008: val_acc improved from 0.66355 to 0.68536, saving model to ./weights/benchmark_weights.hdf5\n",
      "Epoch 00009: val_acc did not improve\n",
      "Epoch 00010: val_acc did not improve\n",
      "Epoch 00011: val_acc improved from 0.68536 to 0.71963, saving model to ./weights/benchmark_weights.hdf5\n",
      "Epoch 00012: val_acc improved from 0.71963 to 0.72897, saving model to ./weights/benchmark_weights.hdf5\n",
      "Epoch 00013: val_acc did not improve\n",
      "Epoch 00014: val_acc improved from 0.72897 to 0.73209, saving model to ./weights/benchmark_weights.hdf5\n",
      "Epoch 00015: val_acc did not improve\n",
      "Epoch 00016: val_acc improved from 0.73209 to 0.73832, saving model to ./weights/benchmark_weights.hdf5\n",
      "Epoch 00017: val_acc did not improve\n",
      "Epoch 00018: val_acc did not improve\n",
      "Epoch 00019: val_acc did not improve\n",
      "Epoch 00020: val_acc did not improve\n",
      "Epoch 00021: val_acc did not improve\n",
      "Epoch 00022: val_acc did not improve\n",
      "Epoch 00023: val_acc improved from 0.73832 to 0.77259, saving model to ./weights/benchmark_weights.hdf5\n",
      "Epoch 00024: val_acc did not improve\n",
      "Epoch 00025: val_acc did not improve\n",
      "Epoch 00026: val_acc did not improve\n",
      "Epoch 00027: val_acc did not improve\n",
      "Epoch 00028: val_acc did not improve\n",
      "Epoch 00029: val_acc did not improve\n",
      "Epoch 00030: val_acc did not improve\n",
      "Epoch 00031: val_acc did not improve\n",
      "Epoch 00032: val_acc did not improve\n",
      "Epoch 00033: val_acc did not improve\n",
      "Epoch 00034: val_acc did not improve\n",
      "Epoch 00035: val_acc did not improve\n",
      "Epoch 00036: val_acc improved from 0.77259 to 0.80685, saving model to ./weights/benchmark_weights.hdf5\n",
      "Epoch 00037: val_acc did not improve\n",
      "Epoch 00038: val_acc improved from 0.80685 to 0.82555, saving model to ./weights/benchmark_weights.hdf5\n",
      "Epoch 00039: val_acc did not improve\n",
      "Epoch 00040: val_acc did not improve\n",
      "Epoch 00041: val_acc did not improve\n",
      "Epoch 00042: val_acc did not improve\n",
      "Epoch 00043: val_acc did not improve\n",
      "Epoch 00044: val_acc did not improve\n",
      "Epoch 00045: val_acc did not improve\n",
      "Epoch 00046: val_acc did not improve\n",
      "Epoch 00047: val_acc did not improve\n",
      "Epoch 00048: val_acc did not improve\n",
      "Epoch 00049: val_acc did not improve\n",
      "Epoch 00050: val_acc did not improve\n",
      "Epoch 00051: val_acc did not improve\n",
      "Epoch 00052: val_acc did not improve\n",
      "Epoch 00053: val_acc did not improve\n",
      "Epoch 00054: val_acc did not improve\n",
      "Epoch 00055: val_acc did not improve\n",
      "Epoch 00056: val_acc did not improve\n",
      "Epoch 00057: val_acc did not improve\n",
      "Epoch 00058: val_acc did not improve\n",
      "Epoch 00059: val_acc did not improve\n",
      "Epoch 00060: val_acc did not improve\n",
      "Epoch 00061: val_acc did not improve\n",
      "Epoch 00062: val_acc did not improve\n",
      "Epoch 00063: val_acc did not improve\n",
      "Epoch 00064: val_acc did not improve\n",
      "Epoch 00065: val_acc did not improve\n",
      "Epoch 00066: val_acc did not improve\n",
      "Epoch 00067: val_acc did not improve\n",
      "Epoch 00068: val_acc improved from 0.82555 to 0.82866, saving model to ./weights/benchmark_weights.hdf5\n",
      "Epoch 00069: val_acc did not improve\n",
      "Epoch 00070: val_acc did not improve\n",
      "Epoch 00071: val_acc did not improve\n",
      "Epoch 00072: val_acc improved from 0.82866 to 0.83489, saving model to ./weights/benchmark_weights.hdf5\n",
      "Epoch 00073: val_acc did not improve\n",
      "Epoch 00074: val_acc did not improve\n",
      "Epoch 00075: val_acc improved from 0.83489 to 0.83801, saving model to ./weights/benchmark_weights.hdf5\n",
      "Epoch 00076: val_acc did not improve\n",
      "Epoch 00077: val_acc did not improve\n",
      "Epoch 00078: val_acc did not improve\n",
      "Epoch 00079: val_acc did not improve\n",
      "Epoch 00080: val_acc did not improve\n",
      "Epoch 00081: val_acc did not improve\n",
      "Epoch 00082: val_acc did not improve\n",
      "Epoch 00083: val_acc did not improve\n",
      "Epoch 00084: val_acc did not improve\n",
      "Epoch 00085: val_acc did not improve\n",
      "Epoch 00086: val_acc did not improve\n",
      "Epoch 00087: val_acc did not improve\n",
      "Epoch 00088: val_acc did not improve\n",
      "Epoch 00089: val_acc did not improve\n",
      "Epoch 00090: val_acc did not improve\n",
      "Epoch 00091: val_acc did not improve\n",
      "Epoch 00092: val_acc improved from 0.83801 to 0.84735, saving model to ./weights/benchmark_weights.hdf5\n",
      "Epoch 00093: val_acc did not improve\n",
      "Epoch 00094: val_acc did not improve\n",
      "Epoch 00095: val_acc did not improve\n",
      "Epoch 00096: val_acc did not improve\n",
      "Epoch 00097: val_acc did not improve\n",
      "Epoch 00098: val_acc did not improve\n",
      "Epoch 00099: val_acc did not improve\n",
      "Epoch 00100: val_acc did not improve\n",
      "Epoch 00101: val_acc did not improve\n",
      "Epoch 00102: val_acc did not improve\n",
      "Epoch 00103: val_acc did not improve\n",
      "Epoch 00104: val_acc did not improve\n",
      "Epoch 00105: val_acc did not improve\n",
      "Epoch 00106: val_acc did not improve\n",
      "Epoch 00107: val_acc did not improve\n",
      "Epoch 00108: val_acc did not improve\n",
      "Epoch 00109: val_acc did not improve\n",
      "Epoch 00110: val_acc improved from 0.84735 to 0.85047, saving model to ./weights/benchmark_weights.hdf5\n",
      "Epoch 00111: val_acc did not improve\n",
      "Epoch 00112: val_acc did not improve\n",
      "Epoch 00113: val_acc did not improve\n",
      "Epoch 00114: val_acc did not improve\n",
      "Epoch 00115: val_acc did not improve\n",
      "Epoch 00116: val_acc improved from 0.85047 to 0.85981, saving model to ./weights/benchmark_weights.hdf5\n",
      "Epoch 00117: val_acc did not improve\n",
      "Epoch 00118: val_acc did not improve\n",
      "Epoch 00119: val_acc did not improve\n",
      "Epoch 00120: val_acc did not improve\n",
      "Epoch 00121: val_acc did not improve\n",
      "Epoch 00122: val_acc did not improve\n",
      "Epoch 00123: val_acc did not improve\n",
      "Epoch 00124: val_acc did not improve\n",
      "Epoch 00125: val_acc did not improve\n",
      "Epoch 00126: val_acc did not improve\n",
      "Epoch 00127: val_acc did not improve\n",
      "Epoch 00128: val_acc did not improve\n",
      "Epoch 00129: val_acc did not improve\n",
      "Epoch 00130: val_acc did not improve\n",
      "Epoch 00131: val_acc did not improve\n",
      "Epoch 00132: val_acc did not improve\n",
      "Epoch 00133: val_acc did not improve\n",
      "Epoch 00134: val_acc did not improve\n",
      "Epoch 00135: val_acc did not improve\n",
      "Epoch 00136: val_acc did not improve\n",
      "Epoch 00137: val_acc did not improve\n",
      "Epoch 00138: val_acc did not improve\n",
      "Epoch 00139: val_acc did not improve\n",
      "Epoch 00140: val_acc did not improve\n",
      "Epoch 00141: val_acc did not improve\n",
      "Epoch 00142: val_acc did not improve\n",
      "Epoch 00143: val_acc did not improve\n",
      "Epoch 00144: val_acc did not improve\n",
      "Epoch 00145: val_acc did not improve\n",
      "Epoch 00146: val_acc did not improve\n",
      "Epoch 00147: val_acc did not improve\n",
      "Epoch 00148: val_acc did not improve\n",
      "Epoch 00149: val_acc did not improve\n",
      "Epoch 00150: val_acc did not improve\n",
      "Epoch 00151: val_acc did not improve\n",
      "Epoch 00152: val_acc did not improve\n",
      "Epoch 00153: val_acc did not improve\n",
      "Epoch 00154: val_acc did not improve\n",
      "Epoch 00155: val_acc did not improve\n",
      "Epoch 00156: val_acc did not improve\n",
      "Epoch 00157: val_acc did not improve\n",
      "Epoch 00158: val_acc did not improve\n",
      "Epoch 00159: val_acc did not improve\n",
      "Epoch 00160: val_acc did not improve\n",
      "Epoch 00161: val_acc did not improve\n",
      "Epoch 00162: val_acc did not improve\n",
      "Epoch 00163: val_acc did not improve\n",
      "Epoch 00164: val_acc did not improve\n",
      "Epoch 00165: val_acc did not improve\n",
      "Epoch 00166: val_acc did not improve\n",
      "Epoch 00167: val_acc did not improve\n",
      "Epoch 00168: val_acc did not improve\n",
      "Epoch 00169: val_acc did not improve\n",
      "Epoch 00170: val_acc did not improve\n",
      "Epoch 00171: val_acc did not improve\n",
      "Epoch 00172: val_acc did not improve\n",
      "Epoch 00173: val_acc did not improve\n",
      "Epoch 00174: val_acc did not improve\n",
      "Epoch 00175: val_acc did not improve\n",
      "Epoch 00176: val_acc did not improve\n",
      "Epoch 00177: val_acc did not improve\n",
      "Epoch 00178: val_acc did not improve\n",
      "Epoch 00179: val_acc did not improve\n",
      "Epoch 00180: val_acc did not improve\n",
      "Epoch 00181: val_acc did not improve\n",
      "Epoch 00182: val_acc did not improve\n",
      "Epoch 00183: val_acc did not improve\n",
      "Epoch 00184: val_acc did not improve\n",
      "Epoch 00185: val_acc did not improve\n",
      "Epoch 00186: val_acc did not improve\n",
      "Epoch 00187: val_acc did not improve\n",
      "Epoch 00188: val_acc did not improve\n",
      "Epoch 00189: val_acc did not improve\n",
      "Epoch 00190: val_acc did not improve\n"
     ]
    },
    {
     "name": "stdout",
     "output_type": "stream",
     "text": [
      "Epoch 00191: val_acc did not improve\n",
      "Epoch 00192: val_acc did not improve\n",
      "Epoch 00193: val_acc did not improve\n",
      "Epoch 00194: val_acc did not improve\n",
      "Epoch 00195: val_acc did not improve\n",
      "Epoch 00196: val_acc did not improve\n",
      "Epoch 00197: val_acc did not improve\n",
      "Epoch 00198: val_acc did not improve\n",
      "Epoch 00199: val_acc did not improve\n"
     ]
    }
   ],
   "source": [
    "\n",
    "adam = Adam(lr=0.00015)\n",
    "benchmark.compile(loss='binary_crossentropy',\n",
    "                  optimizer=adam,\n",
    "                  metrics=['accuracy'])\n",
    "\n",
    "##\n",
    "checkpointer = ModelCheckpoint(filepath='./weights/benchmark_weights.hdf5',\n",
    "                               monitor='val_acc',\n",
    "                               verbose=1,\n",
    "                               save_best_only=True,\n",
    "                               mode='max')\n",
    "\n",
    "hist_1 = benchmark.fit(X_train, y_train,\n",
    "                     batch_size=32,\n",
    "                     validation_data=(X_val, y_val),\n",
    "                     epochs=200,\n",
    "                     callbacks=[checkpointer],\n",
    "                     verbose=0)"
   ]
  },
  {
   "cell_type": "markdown",
   "metadata": {},
   "source": [
    "** The following function is used for plotting the score variations of the train and validation datasets over epochs.**"
   ]
  },
  {
   "cell_type": "code",
   "execution_count": 17,
   "metadata": {
    "collapsed": true
   },
   "outputs": [],
   "source": [
    "def plot_history(hist, title=''):\n",
    "    plt.plot(hist.history['acc'])\n",
    "    plt.plot(hist.history['val_acc'])\n",
    "    plt.title('model accuracy')\n",
    "    plt.ylabel('accuracy')\n",
    "    plt.xlabel('epoch')\n",
    "    plt.title(title)\n",
    "    plt.legend(['train', 'validation'], loc='upper left')\n",
    "    plt.show()\n",
    "    return"
   ]
  },
  {
   "cell_type": "markdown",
   "metadata": {},
   "source": [
    "**The following figure shows how the train and vlidation accuracy scores change by epoch.**"
   ]
  },
  {
   "cell_type": "code",
   "execution_count": 18,
   "metadata": {},
   "outputs": [
    {
     "data": {
      "image/png": "[encoded data removed]",
      "text/plain": [
       "<matplotlib.figure.Figure at 0x7f3e439c9908>"
      ]
     },
     "metadata": {},
     "output_type": "display_data"
    }
   ],
   "source": [
    "plot_history(hist=hist_1, title='benchmark')"
   ]
  },
  {
   "cell_type": "code",
   "execution_count": 19,
   "metadata": {},
   "outputs": [
    {
     "name": "stdout",
     "output_type": "stream",
     "text": [
      "The benchmark accuracy is: 0.860\n"
     ]
    }
   ],
   "source": [
    "model = construct_benchmark(inp=X_train)\n",
    "model.load_weights('./weights/benchmark_weights.hdf5')\n",
    "model.compile(loss='binary_crossentropy',\n",
    "                  optimizer=adam,\n",
    "                  metrics=['accuracy'])\n",
    "benchmark_score = model.evaluate(X_val, y_val, verbose=0)\n",
    "print(\"The {} accuracy is: {:.3f}\".format('benchmark', benchmark_score[1]))\n",
    "\n",
    "acc = {}\n",
    "acc['benchmark'] = benchmark_score\n"
   ]
  },
  {
   "cell_type": "markdown",
   "metadata": {},
   "source": [
    "## 6. Adding layers to the benchmark model"
   ]
  },
  {
   "cell_type": "markdown",
   "metadata": {},
   "source": [
    "**In the next steps, more layers are added to the benchmark model.**"
   ]
  },
  {
   "cell_type": "code",
   "execution_count": 20,
   "metadata": {
    "collapsed": true
   },
   "outputs": [],
   "source": [
    "def construct_model(inp=X_train):\n",
    "    ##\n",
    "    K.clear_session()\n",
    "    ##\n",
    "    model = Sequential()\n",
    "    ##\n",
    "    model.add(Conv2D(filters=16, kernel_size=2, strides=1, padding='same', activation='relu',\n",
    "                     input_shape=inp.shape[1:]))\n",
    "    model.add(MaxPooling2D(pool_size=2))\n",
    "    model.add(Conv2D(filters=32, kernel_size=2, strides=1, padding='same', activation='relu'))\n",
    "    model.add(MaxPooling2D(pool_size=2))\n",
    "    model.add(Conv2D(filters=64, kernel_size=2, strides=1, padding='same', activation='relu'))\n",
    "    model.add(MaxPooling2D(pool_size=2))\n",
    "    model.add(Conv2D(filters=220, kernel_size=2, strides=1, padding='same', activation='relu'))\n",
    "    model.add(MaxPooling2D(pool_size=2))\n",
    "    model.add(GlobalAveragePooling2D())\n",
    "    model.add(Dense(100, activation='relu'))\n",
    "    model.add(Dropout(0.5))\n",
    "    model.add(Dense(1, activation='sigmoid'))\n",
    "    return model\n"
   ]
  },
  {
   "cell_type": "code",
   "execution_count": 21,
   "metadata": {},
   "outputs": [
    {
     "name": "stdout",
     "output_type": "stream",
     "text": [
      "_________________________________________________________________\n",
      "Layer (type)                 Output Shape              Param #   \n",
      "=================================================================\n",
      "conv2d_1 (Conv2D)            (None, 75, 75, 16)        208       \n",
      "_________________________________________________________________\n",
      "max_pooling2d_1 (MaxPooling2 (None, 37, 37, 16)        0         \n",
      "_________________________________________________________________\n",
      "conv2d_2 (Conv2D)            (None, 37, 37, 32)        2080      \n",
      "_________________________________________________________________\n",
      "max_pooling2d_2 (MaxPooling2 (None, 18, 18, 32)        0         \n",
      "_________________________________________________________________\n",
      "conv2d_3 (Conv2D)            (None, 18, 18, 64)        8256      \n",
      "_________________________________________________________________\n",
      "max_pooling2d_3 (MaxPooling2 (None, 9, 9, 64)          0         \n",
      "_________________________________________________________________\n",
      "conv2d_4 (Conv2D)            (None, 9, 9, 220)         56540     \n",
      "_________________________________________________________________\n",
      "max_pooling2d_4 (MaxPooling2 (None, 4, 4, 220)         0         \n",
      "_________________________________________________________________\n",
      "global_average_pooling2d_1 ( (None, 220)               0         \n",
      "_________________________________________________________________\n",
      "dense_1 (Dense)              (None, 100)               22100     \n",
      "_________________________________________________________________\n",
      "dropout_1 (Dropout)          (None, 100)               0         \n",
      "_________________________________________________________________\n",
      "dense_2 (Dense)              (None, 1)                 101       \n",
      "=================================================================\n",
      "Total params: 89,285\n",
      "Trainable params: 89,285\n",
      "Non-trainable params: 0\n",
      "_________________________________________________________________\n"
     ]
    }
   ],
   "source": [
    "model_1 = construct_model(inp=X_train)\n",
    "model_1.summary()"
   ]
  },
  {
   "cell_type": "code",
   "execution_count": 22,
   "metadata": {},
   "outputs": [
    {
     "name": "stdout",
     "output_type": "stream",
     "text": [
      "Epoch 00000: val_acc improved from -inf to 0.71028, saving model to ./weights/model_1_weights.hdf5\n",
      "Epoch 00001: val_acc did not improve\n",
      "Epoch 00002: val_acc improved from 0.71028 to 0.73209, saving model to ./weights/model_1_weights.hdf5\n",
      "Epoch 00003: val_acc did not improve\n",
      "Epoch 00004: val_acc did not improve\n",
      "Epoch 00005: val_acc did not improve\n",
      "Epoch 00006: val_acc did not improve\n",
      "Epoch 00007: val_acc improved from 0.73209 to 0.75078, saving model to ./weights/model_1_weights.hdf5\n",
      "Epoch 00008: val_acc did not improve\n",
      "Epoch 00009: val_acc did not improve\n",
      "Epoch 00010: val_acc improved from 0.75078 to 0.76324, saving model to ./weights/model_1_weights.hdf5\n",
      "Epoch 00011: val_acc improved from 0.76324 to 0.76947, saving model to ./weights/model_1_weights.hdf5\n",
      "Epoch 00012: val_acc did not improve\n",
      "Epoch 00013: val_acc did not improve\n",
      "Epoch 00014: val_acc did not improve\n",
      "Epoch 00015: val_acc did not improve\n",
      "Epoch 00016: val_acc did not improve\n",
      "Epoch 00017: val_acc did not improve\n",
      "Epoch 00018: val_acc improved from 0.76947 to 0.79128, saving model to ./weights/model_1_weights.hdf5\n",
      "Epoch 00019: val_acc did not improve\n",
      "Epoch 00020: val_acc did not improve\n",
      "Epoch 00021: val_acc did not improve\n",
      "Epoch 00022: val_acc did not improve\n",
      "Epoch 00023: val_acc did not improve\n",
      "Epoch 00024: val_acc improved from 0.79128 to 0.79439, saving model to ./weights/model_1_weights.hdf5\n",
      "Epoch 00025: val_acc improved from 0.79439 to 0.81620, saving model to ./weights/model_1_weights.hdf5\n",
      "Epoch 00026: val_acc did not improve\n",
      "Epoch 00027: val_acc did not improve\n",
      "Epoch 00028: val_acc improved from 0.81620 to 0.83489, saving model to ./weights/model_1_weights.hdf5\n",
      "Epoch 00029: val_acc did not improve\n",
      "Epoch 00030: val_acc did not improve\n",
      "Epoch 00031: val_acc did not improve\n",
      "Epoch 00032: val_acc did not improve\n",
      "Epoch 00033: val_acc did not improve\n",
      "Epoch 00034: val_acc did not improve\n",
      "Epoch 00035: val_acc did not improve\n",
      "Epoch 00036: val_acc did not improve\n",
      "Epoch 00037: val_acc improved from 0.83489 to 0.84112, saving model to ./weights/model_1_weights.hdf5\n",
      "Epoch 00038: val_acc did not improve\n",
      "Epoch 00039: val_acc improved from 0.84112 to 0.84424, saving model to ./weights/model_1_weights.hdf5\n",
      "Epoch 00040: val_acc did not improve\n",
      "Epoch 00041: val_acc improved from 0.84424 to 0.85358, saving model to ./weights/model_1_weights.hdf5\n",
      "Epoch 00042: val_acc did not improve\n",
      "Epoch 00043: val_acc did not improve\n",
      "Epoch 00044: val_acc did not improve\n",
      "Epoch 00045: val_acc did not improve\n",
      "Epoch 00046: val_acc did not improve\n",
      "Epoch 00047: val_acc did not improve\n",
      "Epoch 00048: val_acc did not improve\n",
      "Epoch 00049: val_acc did not improve\n",
      "Epoch 00050: val_acc did not improve\n",
      "Epoch 00051: val_acc did not improve\n",
      "Epoch 00052: val_acc did not improve\n",
      "Epoch 00053: val_acc did not improve\n",
      "Epoch 00054: val_acc did not improve\n",
      "Epoch 00055: val_acc did not improve\n",
      "Epoch 00056: val_acc did not improve\n",
      "Epoch 00057: val_acc did not improve\n",
      "Epoch 00058: val_acc did not improve\n",
      "Epoch 00059: val_acc did not improve\n",
      "Epoch 00060: val_acc did not improve\n",
      "Epoch 00061: val_acc did not improve\n",
      "Epoch 00062: val_acc improved from 0.85358 to 0.86293, saving model to ./weights/model_1_weights.hdf5\n",
      "Epoch 00063: val_acc did not improve\n",
      "Epoch 00064: val_acc did not improve\n",
      "Epoch 00065: val_acc did not improve\n",
      "Epoch 00066: val_acc did not improve\n",
      "Epoch 00067: val_acc did not improve\n",
      "Epoch 00068: val_acc did not improve\n",
      "Epoch 00069: val_acc did not improve\n",
      "Epoch 00070: val_acc did not improve\n",
      "Epoch 00071: val_acc did not improve\n",
      "Epoch 00072: val_acc did not improve\n",
      "Epoch 00073: val_acc did not improve\n",
      "Epoch 00074: val_acc did not improve\n",
      "Epoch 00075: val_acc did not improve\n",
      "Epoch 00076: val_acc did not improve\n",
      "Epoch 00077: val_acc did not improve\n",
      "Epoch 00078: val_acc did not improve\n",
      "Epoch 00079: val_acc did not improve\n",
      "Epoch 00080: val_acc did not improve\n",
      "Epoch 00081: val_acc did not improve\n",
      "Epoch 00082: val_acc did not improve\n",
      "Epoch 00083: val_acc did not improve\n",
      "Epoch 00084: val_acc did not improve\n",
      "Epoch 00085: val_acc did not improve\n",
      "Epoch 00086: val_acc did not improve\n",
      "Epoch 00087: val_acc did not improve\n",
      "Epoch 00088: val_acc did not improve\n",
      "Epoch 00089: val_acc did not improve\n",
      "Epoch 00090: val_acc did not improve\n",
      "Epoch 00091: val_acc did not improve\n",
      "Epoch 00092: val_acc did not improve\n",
      "Epoch 00093: val_acc did not improve\n",
      "Epoch 00094: val_acc did not improve\n",
      "Epoch 00095: val_acc did not improve\n",
      "Epoch 00096: val_acc did not improve\n",
      "Epoch 00097: val_acc did not improve\n",
      "Epoch 00098: val_acc did not improve\n",
      "Epoch 00099: val_acc did not improve\n",
      "Epoch 00100: val_acc did not improve\n",
      "Epoch 00101: val_acc did not improve\n",
      "Epoch 00102: val_acc improved from 0.86293 to 0.86604, saving model to ./weights/model_1_weights.hdf5\n",
      "Epoch 00103: val_acc did not improve\n",
      "Epoch 00104: val_acc did not improve\n",
      "Epoch 00105: val_acc did not improve\n",
      "Epoch 00106: val_acc did not improve\n",
      "Epoch 00107: val_acc did not improve\n",
      "Epoch 00108: val_acc did not improve\n",
      "Epoch 00109: val_acc did not improve\n",
      "Epoch 00110: val_acc did not improve\n",
      "Epoch 00111: val_acc did not improve\n",
      "Epoch 00112: val_acc did not improve\n",
      "Epoch 00113: val_acc did not improve\n",
      "Epoch 00114: val_acc did not improve\n",
      "Epoch 00115: val_acc did not improve\n",
      "Epoch 00116: val_acc did not improve\n",
      "Epoch 00117: val_acc did not improve\n",
      "Epoch 00118: val_acc did not improve\n",
      "Epoch 00119: val_acc did not improve\n",
      "Epoch 00120: val_acc did not improve\n",
      "Epoch 00121: val_acc did not improve\n",
      "Epoch 00122: val_acc did not improve\n",
      "Epoch 00123: val_acc did not improve\n",
      "Epoch 00124: val_acc did not improve\n",
      "Epoch 00125: val_acc did not improve\n",
      "Epoch 00126: val_acc did not improve\n",
      "Epoch 00127: val_acc did not improve\n",
      "Epoch 00128: val_acc did not improve\n",
      "Epoch 00129: val_acc did not improve\n",
      "Epoch 00130: val_acc did not improve\n",
      "Epoch 00131: val_acc did not improve\n",
      "Epoch 00132: val_acc did not improve\n",
      "Epoch 00133: val_acc did not improve\n",
      "Epoch 00134: val_acc did not improve\n",
      "Epoch 00135: val_acc did not improve\n",
      "Epoch 00136: val_acc did not improve\n",
      "Epoch 00137: val_acc improved from 0.86604 to 0.86916, saving model to ./weights/model_1_weights.hdf5\n",
      "Epoch 00138: val_acc did not improve\n",
      "Epoch 00139: val_acc did not improve\n",
      "Epoch 00140: val_acc did not improve\n",
      "Epoch 00141: val_acc did not improve\n",
      "Epoch 00142: val_acc did not improve\n",
      "Epoch 00143: val_acc did not improve\n",
      "Epoch 00144: val_acc did not improve\n",
      "Epoch 00145: val_acc did not improve\n",
      "Epoch 00146: val_acc did not improve\n",
      "Epoch 00147: val_acc did not improve\n",
      "Epoch 00148: val_acc did not improve\n",
      "Epoch 00149: val_acc did not improve\n",
      "Epoch 00150: val_acc did not improve\n",
      "Epoch 00151: val_acc did not improve\n",
      "Epoch 00152: val_acc did not improve\n",
      "Epoch 00153: val_acc did not improve\n",
      "Epoch 00154: val_acc did not improve\n",
      "Epoch 00155: val_acc did not improve\n",
      "Epoch 00156: val_acc did not improve\n",
      "Epoch 00157: val_acc did not improve\n",
      "Epoch 00158: val_acc did not improve\n",
      "Epoch 00159: val_acc did not improve\n",
      "Epoch 00160: val_acc did not improve\n",
      "Epoch 00161: val_acc did not improve\n",
      "Epoch 00162: val_acc did not improve\n",
      "Epoch 00163: val_acc did not improve\n",
      "Epoch 00164: val_acc did not improve\n",
      "Epoch 00165: val_acc did not improve\n",
      "Epoch 00166: val_acc did not improve\n",
      "Epoch 00167: val_acc did not improve\n",
      "Epoch 00168: val_acc did not improve\n",
      "Epoch 00169: val_acc did not improve\n",
      "Epoch 00170: val_acc did not improve\n",
      "Epoch 00171: val_acc did not improve\n",
      "Epoch 00172: val_acc did not improve\n",
      "Epoch 00173: val_acc did not improve\n",
      "Epoch 00174: val_acc did not improve\n",
      "Epoch 00175: val_acc did not improve\n",
      "Epoch 00176: val_acc did not improve\n",
      "Epoch 00177: val_acc did not improve\n",
      "Epoch 00178: val_acc did not improve\n",
      "Epoch 00179: val_acc did not improve\n",
      "Epoch 00180: val_acc did not improve\n",
      "Epoch 00181: val_acc did not improve\n",
      "Epoch 00182: val_acc did not improve\n",
      "Epoch 00183: val_acc did not improve\n",
      "Epoch 00184: val_acc did not improve\n",
      "Epoch 00185: val_acc did not improve\n",
      "Epoch 00186: val_acc did not improve\n",
      "Epoch 00187: val_acc did not improve\n",
      "Epoch 00188: val_acc did not improve\n",
      "Epoch 00189: val_acc did not improve\n",
      "Epoch 00190: val_acc did not improve\n",
      "Epoch 00191: val_acc did not improve\n",
      "Epoch 00192: val_acc did not improve\n",
      "Epoch 00193: val_acc did not improve\n",
      "Epoch 00194: val_acc did not improve\n",
      "Epoch 00195: val_acc did not improve\n"
     ]
    },
    {
     "name": "stdout",
     "output_type": "stream",
     "text": [
      "Epoch 00196: val_acc did not improve\n",
      "Epoch 00197: val_acc did not improve\n",
      "Epoch 00198: val_acc did not improve\n",
      "Epoch 00199: val_acc did not improve\n"
     ]
    }
   ],
   "source": [
    "adam = Adam(lr=0.00015)\n",
    "model_1.compile(loss='binary_crossentropy',\n",
    "                optimizer=adam,\n",
    "                metrics=['accuracy'])\n",
    "\n",
    "##\n",
    "checkpointer = ModelCheckpoint(filepath='./weights/model_1_weights.hdf5',\n",
    "                               monitor='val_acc',\n",
    "                               verbose=1,\n",
    "                               save_best_only=True,\n",
    "                               mode='max')\n",
    "\n",
    "hist_2 = model_1.fit(X_train, y_train, \n",
    "                   batch_size=32,\n",
    "                   validation_data=(X_val, y_val),\n",
    "                   epochs=200,\n",
    "                   callbacks=[checkpointer], \n",
    "                   verbose=0)"
   ]
  },
  {
   "cell_type": "code",
   "execution_count": 23,
   "metadata": {},
   "outputs": [
    {
     "data": {
      "image/png": "[encoded data removed]",
      "text/plain": [
       "<matplotlib.figure.Figure at 0x7f3e3c0541d0>"
      ]
     },
     "metadata": {},
     "output_type": "display_data"
    }
   ],
   "source": [
    "plot_history(hist=hist_2, title='model_1')"
   ]
  },
  {
   "cell_type": "code",
   "execution_count": 24,
   "metadata": {},
   "outputs": [
    {
     "name": "stdout",
     "output_type": "stream",
     "text": [
      "The model_1 accuracy is: 0.869\n"
     ]
    }
   ],
   "source": [
    "model = construct_model(inp=X_train)\n",
    "model.load_weights('./weights/model_1_weights.hdf5')\n",
    "model.compile(loss='binary_crossentropy',\n",
    "                  optimizer=adam,\n",
    "                  metrics=['accuracy'])\n",
    "model_1_score = model.evaluate(X_val, y_val, verbose=0)\n",
    "print(\"The {} accuracy is: {:.3f}\".format('model_1', model_1_score[1]))\n",
    "\n",
    "acc['model_1'] = model_1_score\n"
   ]
  },
  {
   "cell_type": "markdown",
   "metadata": {},
   "source": [
    "## 7. Extracting bottleneck features\n",
    "**In the following steps, the ResNet50 bottleneck features are extracted and used for the prediction.**\n",
    "\n",
    "**First, the following function is used to extract and save the ResNet50 bottleneck features.**"
   ]
  },
  {
   "cell_type": "code",
   "execution_count": 25,
   "metadata": {
    "collapsed": true
   },
   "outputs": [],
   "source": [
    "from extract_bottleneck_features import *\n",
    "\n",
    "def extract_ResNet50_features(json_data=dta):\n",
    "    ##\n",
    "    samples_len = len(json_data)\n",
    "    width = int(np.sqrt(len(json_data[0]['band_1'])))\n",
    "    height = width\n",
    "    ##\n",
    "    model_input = np.zeros(shape=(samples_len, 2, 2, 2048))\n",
    "    model_target = np.zeros(shape=(samples_len, 1))\n",
    "    ##\n",
    "    n=0\n",
    "    for sample_n in range(samples_len):\n",
    "        ##\n",
    "        n += 1\n",
    "        \n",
    "        ##\n",
    "        band_1 = json_data[sample_n]['band_1']\n",
    "        band_1 = np.array(band_1)\n",
    "        band_1 = band_1 + abs(min(band_1))\n",
    "        band_1 = band_1*255/max(band_1)\n",
    "        \n",
    "        ##\n",
    "        band_2 = json_data[sample_n]['band_2']\n",
    "        band_2 = np.array(band_2)\n",
    "        band_2 = band_2 + abs(min(band_2))\n",
    "        band_2 = band_2*255/max(band_2)\n",
    "        \n",
    "        ##\n",
    "        image = list(band_1) + list(band_2) + list(band_2)\n",
    "        \n",
    "        ##\n",
    "        image_reshaped = np.reshape(image, [width, height, 3])\n",
    "        ## to resize the image so it can be fed into Resnet50 model\n",
    "        image_reshaped = scipy.misc.imresize(image_reshaped, (256, 256, 3))\n",
    "        image_reshaped = image_reshaped.astype('float32')\n",
    "\n",
    "        ## too clear the session and free the memory\n",
    "        if n>10:\n",
    "            K.clear_session()\n",
    "            n = 0\n",
    "        ##\n",
    "        bottleneck_feature = extract_Resnet50(np.expand_dims(image_reshaped, axis=0))\n",
    "        \n",
    "        ##\n",
    "        model_input[sample_n] = bottleneck_feature\n",
    "        \n",
    "        ##\n",
    "        model_target[sample_n] = json_data[sample_n]['is_iceberg']\n",
    "    ##\n",
    "    return model_input, model_target"
   ]
  },
  {
   "cell_type": "markdown",
   "metadata": {},
   "source": [
    "** The following block can be used to extract and save the bottleneck features.**"
   ]
  },
  {
   "cell_type": "code",
   "execution_count": 26,
   "metadata": {
    "collapsed": true
   },
   "outputs": [],
   "source": [
    "# uncomment the following lines to extract and save bottleneck features\n",
    "\n",
    "# from extract_bottleneck_features import *\n",
    "# model_input, model_target = extract_ResNet50_features(json_data=dta)\n",
    "\n",
    "##\n",
    "# features = {}\n",
    "# features['features'] = model_input\n",
    "# features['target'] = model_target\n",
    "\n",
    "# with open('./bottleneck_features/ResNet50_features.pkl', 'wb') as handle:\n",
    "#     pickle.dump(features, handle)"
   ]
  },
  {
   "cell_type": "markdown",
   "metadata": {},
   "source": [
    "** The following function is used to load the bottleneck features.** "
   ]
  },
  {
   "cell_type": "code",
   "execution_count": 27,
   "metadata": {
    "collapsed": true
   },
   "outputs": [],
   "source": [
    "def load_bottleneckFeatures(path):\n",
    "    with (open(path, \"rb\")) as openfile:\n",
    "        features = pickle.load(openfile)\n",
    "    return features"
   ]
  },
  {
   "cell_type": "code",
   "execution_count": 28,
   "metadata": {
    "collapsed": true
   },
   "outputs": [],
   "source": [
    "bottleneckFeatures = load_bottleneckFeatures(path='./bottleneck_features/ResNet50_features.pkl')\n"
   ]
  },
  {
   "cell_type": "code",
   "execution_count": 29,
   "metadata": {},
   "outputs": [
    {
     "data": {
      "text/plain": [
       "dict_keys(['features', 'target'])"
      ]
     },
     "execution_count": 29,
     "metadata": {},
     "output_type": "execute_result"
    }
   ],
   "source": [
    "bottleneckFeatures.keys()"
   ]
  },
  {
   "cell_type": "markdown",
   "metadata": {},
   "source": [
    "** Here, the loaded dataset is divided into train and validation.**"
   ]
  },
  {
   "cell_type": "code",
   "execution_count": 30,
   "metadata": {
    "collapsed": true
   },
   "outputs": [],
   "source": [
    "X_train_res, X_val_res, y_train_res, y_val_res =\\\n",
    "train_test_split(bottleneckFeatures['features'], bottleneckFeatures['target'], test_size=0.20, random_state=19)"
   ]
  },
  {
   "cell_type": "code",
   "execution_count": 31,
   "metadata": {},
   "outputs": [
    {
     "data": {
      "text/plain": [
       "(1283, 2, 2, 2048)"
      ]
     },
     "execution_count": 31,
     "metadata": {},
     "output_type": "execute_result"
    }
   ],
   "source": [
    "X_train_res.shape"
   ]
  },
  {
   "cell_type": "code",
   "execution_count": 32,
   "metadata": {
    "collapsed": true
   },
   "outputs": [],
   "source": [
    "def model_ResNet50(inp=X_train_res):\n",
    "    ##\n",
    "    K.clear_session()\n",
    "    ##\n",
    "    ResNet50_model = Sequential()\n",
    "    ResNet50_model.add(GlobalAveragePooling2D(input_shape=inp.shape[1:]))\n",
    "    ResNet50_model.add(Dense(160, activation='relu'))\n",
    "    ResNet50_model.add(Dropout(0.5))\n",
    "    ResNet50_model.add(Dense(86, activation='relu'))\n",
    "    ResNet50_model.add(Dropout(0.5))\n",
    "    ResNet50_model.add(Dense(1, activation='sigmoid'))\n",
    "    return ResNet50_model"
   ]
  },
  {
   "cell_type": "code",
   "execution_count": 33,
   "metadata": {},
   "outputs": [
    {
     "name": "stdout",
     "output_type": "stream",
     "text": [
      "_________________________________________________________________\n",
      "Layer (type)                 Output Shape              Param #   \n",
      "=================================================================\n",
      "global_average_pooling2d_1 ( (None, 2048)              0         \n",
      "_________________________________________________________________\n",
      "dense_1 (Dense)              (None, 160)               327840    \n",
      "_________________________________________________________________\n",
      "dropout_1 (Dropout)          (None, 160)               0         \n",
      "_________________________________________________________________\n",
      "dense_2 (Dense)              (None, 86)                13846     \n",
      "_________________________________________________________________\n",
      "dropout_2 (Dropout)          (None, 86)                0         \n",
      "_________________________________________________________________\n",
      "dense_3 (Dense)              (None, 1)                 87        \n",
      "=================================================================\n",
      "Total params: 341,773\n",
      "Trainable params: 341,773\n",
      "Non-trainable params: 0\n",
      "_________________________________________________________________\n"
     ]
    }
   ],
   "source": [
    "ResNet50_model = model_ResNet50(inp=X_train_res)\n",
    "ResNet50_model.summary()"
   ]
  },
  {
   "cell_type": "code",
   "execution_count": 34,
   "metadata": {},
   "outputs": [
    {
     "name": "stdout",
     "output_type": "stream",
     "text": [
      "Epoch 00000: val_acc improved from -inf to 0.76324, saving model to ./weights/ResNet50_model_weights.hdf5\n",
      "Epoch 00001: val_acc improved from 0.76324 to 0.77882, saving model to ./weights/ResNet50_model_weights.hdf5\n",
      "Epoch 00002: val_acc improved from 0.77882 to 0.80997, saving model to ./weights/ResNet50_model_weights.hdf5\n",
      "Epoch 00003: val_acc improved from 0.80997 to 0.81620, saving model to ./weights/ResNet50_model_weights.hdf5\n",
      "Epoch 00004: val_acc did not improve\n",
      "Epoch 00005: val_acc improved from 0.81620 to 0.82866, saving model to ./weights/ResNet50_model_weights.hdf5\n",
      "Epoch 00006: val_acc did not improve\n",
      "Epoch 00007: val_acc did not improve\n",
      "Epoch 00008: val_acc did not improve\n",
      "Epoch 00009: val_acc improved from 0.82866 to 0.83178, saving model to ./weights/ResNet50_model_weights.hdf5\n",
      "Epoch 00010: val_acc did not improve\n",
      "Epoch 00011: val_acc did not improve\n",
      "Epoch 00012: val_acc improved from 0.83178 to 0.83801, saving model to ./weights/ResNet50_model_weights.hdf5\n",
      "Epoch 00013: val_acc did not improve\n",
      "Epoch 00014: val_acc did not improve\n",
      "Epoch 00015: val_acc did not improve\n",
      "Epoch 00016: val_acc improved from 0.83801 to 0.84424, saving model to ./weights/ResNet50_model_weights.hdf5\n",
      "Epoch 00017: val_acc improved from 0.84424 to 0.84735, saving model to ./weights/ResNet50_model_weights.hdf5\n",
      "Epoch 00018: val_acc did not improve\n",
      "Epoch 00019: val_acc did not improve\n",
      "Epoch 00020: val_acc improved from 0.84735 to 0.85047, saving model to ./weights/ResNet50_model_weights.hdf5\n",
      "Epoch 00021: val_acc improved from 0.85047 to 0.85358, saving model to ./weights/ResNet50_model_weights.hdf5\n",
      "Epoch 00022: val_acc did not improve\n",
      "Epoch 00023: val_acc did not improve\n",
      "Epoch 00024: val_acc did not improve\n",
      "Epoch 00025: val_acc did not improve\n",
      "Epoch 00026: val_acc did not improve\n",
      "Epoch 00027: val_acc did not improve\n",
      "Epoch 00028: val_acc improved from 0.85358 to 0.85670, saving model to ./weights/ResNet50_model_weights.hdf5\n",
      "Epoch 00029: val_acc did not improve\n",
      "Epoch 00030: val_acc did not improve\n",
      "Epoch 00031: val_acc did not improve\n",
      "Epoch 00032: val_acc did not improve\n",
      "Epoch 00033: val_acc did not improve\n",
      "Epoch 00034: val_acc did not improve\n",
      "Epoch 00035: val_acc did not improve\n",
      "Epoch 00036: val_acc did not improve\n",
      "Epoch 00037: val_acc did not improve\n",
      "Epoch 00038: val_acc did not improve\n",
      "Epoch 00039: val_acc did not improve\n",
      "Epoch 00040: val_acc did not improve\n",
      "Epoch 00041: val_acc did not improve\n",
      "Epoch 00042: val_acc did not improve\n",
      "Epoch 00043: val_acc did not improve\n",
      "Epoch 00044: val_acc did not improve\n",
      "Epoch 00045: val_acc did not improve\n",
      "Epoch 00046: val_acc did not improve\n",
      "Epoch 00047: val_acc did not improve\n",
      "Epoch 00048: val_acc did not improve\n",
      "Epoch 00049: val_acc did not improve\n",
      "Epoch 00050: val_acc did not improve\n",
      "Epoch 00051: val_acc did not improve\n",
      "Epoch 00052: val_acc did not improve\n",
      "Epoch 00053: val_acc did not improve\n",
      "Epoch 00054: val_acc did not improve\n",
      "Epoch 00055: val_acc did not improve\n",
      "Epoch 00056: val_acc did not improve\n",
      "Epoch 00057: val_acc did not improve\n",
      "Epoch 00058: val_acc did not improve\n",
      "Epoch 00059: val_acc did not improve\n",
      "Epoch 00060: val_acc did not improve\n",
      "Epoch 00061: val_acc did not improve\n",
      "Epoch 00062: val_acc did not improve\n",
      "Epoch 00063: val_acc did not improve\n",
      "Epoch 00064: val_acc did not improve\n",
      "Epoch 00065: val_acc did not improve\n",
      "Epoch 00066: val_acc did not improve\n",
      "Epoch 00067: val_acc did not improve\n",
      "Epoch 00068: val_acc did not improve\n",
      "Epoch 00069: val_acc did not improve\n",
      "Epoch 00070: val_acc did not improve\n",
      "Epoch 00071: val_acc did not improve\n",
      "Epoch 00072: val_acc did not improve\n",
      "Epoch 00073: val_acc did not improve\n",
      "Epoch 00074: val_acc did not improve\n",
      "Epoch 00075: val_acc did not improve\n",
      "Epoch 00076: val_acc improved from 0.85670 to 0.86293, saving model to ./weights/ResNet50_model_weights.hdf5\n",
      "Epoch 00077: val_acc did not improve\n",
      "Epoch 00078: val_acc did not improve\n",
      "Epoch 00079: val_acc did not improve\n",
      "Epoch 00080: val_acc did not improve\n",
      "Epoch 00081: val_acc did not improve\n",
      "Epoch 00082: val_acc did not improve\n",
      "Epoch 00083: val_acc did not improve\n",
      "Epoch 00084: val_acc did not improve\n",
      "Epoch 00085: val_acc did not improve\n",
      "Epoch 00086: val_acc did not improve\n",
      "Epoch 00087: val_acc did not improve\n",
      "Epoch 00088: val_acc did not improve\n",
      "Epoch 00089: val_acc did not improve\n",
      "Epoch 00090: val_acc did not improve\n",
      "Epoch 00091: val_acc did not improve\n",
      "Epoch 00092: val_acc did not improve\n",
      "Epoch 00093: val_acc did not improve\n",
      "Epoch 00094: val_acc did not improve\n",
      "Epoch 00095: val_acc did not improve\n",
      "Epoch 00096: val_acc did not improve\n",
      "Epoch 00097: val_acc did not improve\n",
      "Epoch 00098: val_acc did not improve\n",
      "Epoch 00099: val_acc did not improve\n"
     ]
    }
   ],
   "source": [
    "adam = Adam(lr=0.0003)\n",
    "ResNet50_model.compile(loss='binary_crossentropy',\n",
    "                       optimizer=adam,\n",
    "                       metrics=['accuracy'])\n",
    "\n",
    "##\n",
    "checkpointer = ModelCheckpoint(filepath='./weights/ResNet50_model_weights.hdf5',\n",
    "                               monitor='val_acc',\n",
    "                               verbose=1,\n",
    "                               save_best_only=True,\n",
    "                               mode='max')\n",
    "\n",
    "hist_3 = ResNet50_model.fit(X_train_res, y_train_res,\n",
    "                            batch_size=32,\n",
    "                            validation_data=(X_val_res, y_val_res),\n",
    "                            epochs=100,\n",
    "                            callbacks=[checkpointer],\n",
    "                            verbose=0)\n",
    "\n"
   ]
  },
  {
   "cell_type": "code",
   "execution_count": 35,
   "metadata": {},
   "outputs": [
    {
     "data": {
      "image/png": "[encoded data removed]",
      "text/plain": [
       "<matplotlib.figure.Figure at 0x7f3e1c0a34e0>"
      ]
     },
     "metadata": {},
     "output_type": "display_data"
    }
   ],
   "source": [
    "plot_history(hist=hist_3, title='ResNet50_model')"
   ]
  },
  {
   "cell_type": "code",
   "execution_count": 36,
   "metadata": {},
   "outputs": [
    {
     "name": "stdout",
     "output_type": "stream",
     "text": [
      "The ResNet50_model accuracy is: 0.863\n"
     ]
    }
   ],
   "source": [
    "model = model_ResNet50(inp=X_train_res)\n",
    "model.load_weights('./weights/ResNet50_model_weights.hdf5')\n",
    "model.compile(loss='binary_crossentropy',\n",
    "                  optimizer=adam,\n",
    "                  metrics=['accuracy'])\n",
    "model_ResNet50_score = model.evaluate(X_val_res, y_val_res, verbose=0)\n",
    "print(\"The {} accuracy is: {:.3f}\".format('ResNet50_model', model_ResNet50_score[1]))\n",
    "\n",
    "acc['ResNet50_model'] = model_ResNet50_score\n"
   ]
  },
  {
   "cell_type": "markdown",
   "metadata": {},
   "source": [
    "## Conclusion:"
   ]
  },
  {
   "cell_type": "markdown",
   "metadata": {},
   "source": [
    "Three different models (e.g. benchmark, model_1, and ResNet50_model) were tested in this project. The model_1  accuracy was higher than the benchmark and ResNet50_model accuracies as shown in the following figure, so at this stage the model_1 is selected as the best model."
   ]
  },
  {
   "cell_type": "code",
   "execution_count": 37,
   "metadata": {},
   "outputs": [
    {
     "data": {
      "image/png": "[encoded data removed]",
      "text/plain": [
       "<matplotlib.figure.Figure at 0x7f3d9c785ac8>"
      ]
     },
     "metadata": {},
     "output_type": "display_data"
    },
    {
     "name": "stdout",
     "output_type": "stream",
     "text": [
      "The highest accuracy is 0.869\n"
     ]
    }
   ],
   "source": [
    "fig = plt.figure(figsize=(8,5))\n",
    "\n",
    "models = list(acc.keys())\n",
    "scores = [acc[m][1] for m in models]\n",
    "y_pos = np.arange(len(models))\n",
    "plt.barh(y_pos, scores)\n",
    "plt.yticks(y_pos, models)\n",
    "plt.xlabel('accuracy')\n",
    "plt.xlim([0.8,1])\n",
    "plt.title('models accuracy')\n",
    "plt.show()\n",
    "\n",
    "print('The highest accuracy is {:.3f}'.format(max(scores)))"
   ]
  }
 ],
 "metadata": {
  "kernelspec": {
   "display_name": "Python 2",
   "language": "python",
   "name": "python2"
  },
  "language_info": {
   "codemirror_mode": {
    "name": "ipython",
    "version": 3
   },
   "file_extension": ".py",
   "mimetype": "text/x-python",
   "name": "python",
   "nbconvert_exporter": "python",
   "pygments_lexer": "ipython3",
   "version": "3.6.1"
  }
 },
 "nbformat": 4,
 "nbformat_minor": 2
}
